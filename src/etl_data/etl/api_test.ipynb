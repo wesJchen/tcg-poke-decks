{
 "cells": [
  {
   "cell_type": "code",
   "execution_count": 8,
   "id": "47463594",
   "metadata": {},
   "outputs": [
    {
     "name": "stdout",
     "output_type": "stream",
     "text": [
      "{'data': [{'id': 'g1-1', 'name': 'Venusaur-EX', 'supertype': 'Pokémon', 'subtypes': ['Basic', 'EX'], 'hp': '180', 'types': ['Grass'], 'evolvesTo': ['M Venusaur-EX'], 'rules': ['Pokémon-EX rule: When a Pokémon-EX has been Knocked Out, your opponent takes 2 Prize cards.'], 'attacks': [{'name': 'Frog Hop', 'cost': ['Grass', 'Colorless', 'Colorless'], 'convertedEnergyCost': 3, 'damage': '40+', 'text': 'Flip a coin. If heads, this attack does 40 more damage.'}, {'name': 'Poison Impact', 'cost': ['Grass', 'Grass', 'Colorless', 'Colorless'], 'convertedEnergyCost': 4, 'damage': '80', 'text': \"Your opponent's Active Pokémon is now Asleep and Poisoned.\"}], 'weaknesses': [{'type': 'Fire', 'value': '×2'}], 'retreatCost': ['Colorless', 'Colorless', 'Colorless', 'Colorless'], 'convertedRetreatCost': 4, 'set': {'id': 'g1', 'name': 'Generations', 'series': 'XY', 'printedTotal': 83, 'total': 117, 'legalities': {'unlimited': 'Legal', 'expanded': 'Legal'}, 'ptcgoCode': 'GEN', 'releaseDate': '2016/02/22', 'updatedAt': '2020/08/14 09:35:00', 'images': {'symbol': 'https://images.pokemontcg.io/g1/symbol.png', 'logo': 'https://images.pokemontcg.io/g1/logo.png'}}, 'number': '1', 'artist': 'Eske Yoshinob', 'rarity': 'Rare Holo EX', 'nationalPokedexNumbers': [3], 'legalities': {'unlimited': 'Legal', 'expanded': 'Legal'}, 'images': {'small': 'https://images.pokemontcg.io/g1/1.png', 'large': 'https://images.pokemontcg.io/g1/1_hires.png'}, 'tcgplayer': {'url': 'https://prices.pokemontcg.io/tcgplayer/g1-1', 'updatedAt': '2025/08/17', 'prices': {'holofoil': {'low': 3.43, 'mid': 6.86, 'high': 19.99, 'market': 5.98, 'directLow': 4.82}}}, 'cardmarket': {'url': 'https://prices.pokemontcg.io/cardmarket/g1-1', 'updatedAt': '2025/08/17', 'prices': {'averageSellPrice': 6.35, 'lowPrice': 1.99, 'trendPrice': 7.42, 'germanProLow': 0.0, 'suggestedPrice': 0.0, 'reverseHoloSell': 0.0, 'reverseHoloLow': 0.0, 'reverseHoloTrend': 6.21, 'lowPriceExPlus': 2.5, 'avg1': 4.75, 'avg7': 6.15, 'avg30': 6.44, 'reverseHoloAvg1': 6.99, 'reverseHoloAvg7': 5.52, 'reverseHoloAvg30': 5.03}}}, {'id': 'g1-2', 'name': 'M Venusaur-EX', 'supertype': 'Pokémon', 'subtypes': ['MEGA', 'EX'], 'hp': '230', 'types': ['Grass'], 'evolvesFrom': 'Venusaur-EX', 'rules': ['Mega Evolution rule: When 1 of your Pokémon becomes a Mega Evolution Pokémon, your turn ends.', 'Pokémon-EX rule: When a Pokémon-EX has been Knocked Out, your opponent takes 2 Prize cards.'], 'attacks': [{'name': 'Bloom Buster', 'cost': ['Grass', 'Grass', 'Colorless', 'Colorless'], 'convertedEnergyCost': 4, 'damage': '130', 'text': \"Flip a coin. If heads, this attack does 30 damage to each of your opponent's Benched Pokémon. (Don't apply Weakness and Resistance for Benched Pokémon.)\"}], 'weaknesses': [{'type': 'Fire', 'value': '×2'}], 'retreatCost': ['Colorless', 'Colorless', 'Colorless', 'Colorless'], 'convertedRetreatCost': 4, 'set': {'id': 'g1', 'name': 'Generations', 'series': 'XY', 'printedTotal': 83, 'total': 117, 'legalities': {'unlimited': 'Legal', 'expanded': 'Legal'}, 'ptcgoCode': 'GEN', 'releaseDate': '2016/02/22', 'updatedAt': '2020/08/14 09:35:00', 'images': {'symbol': 'https://images.pokemontcg.io/g1/symbol.png', 'logo': 'https://images.pokemontcg.io/g1/logo.png'}}, 'number': '2', 'artist': '5ban Graphics', 'rarity': 'Rare Holo EX', 'nationalPokedexNumbers': [3], 'legalities': {'unlimited': 'Legal', 'expanded': 'Legal'}, 'images': {'small': 'https://images.pokemontcg.io/g1/2.png', 'large': 'https://images.pokemontcg.io/g1/2_hires.png'}, 'tcgplayer': {'url': 'https://prices.pokemontcg.io/tcgplayer/g1-2', 'updatedAt': '2025/08/17', 'prices': {'holofoil': {'low': 15.0, 'mid': 20.0, 'high': 49.99, 'market': 18.74, 'directLow': 16.97}}}, 'cardmarket': {'url': 'https://prices.pokemontcg.io/cardmarket/g1-2', 'updatedAt': '2025/08/17', 'prices': {'averageSellPrice': 17.73, 'lowPrice': 5.0, 'trendPrice': 17.84, 'germanProLow': 0.0, 'suggestedPrice': 0.0, 'reverseHoloSell': 0.0, 'reverseHoloLow': 0.0, 'reverseHoloTrend': 8.37, 'lowPriceExPlus': 10.0, 'avg1': 35.0, 'avg7': 20.14, 'avg30': 16.91, 'reverseHoloAvg1': 7.49, 'reverseHoloAvg7': 6.75, 'reverseHoloAvg30': 7.59}}}, {'id': 'g1-3', 'name': 'Caterpie', 'supertype': 'Pokémon', 'subtypes': ['Basic'], 'hp': '40', 'types': ['Grass'], 'evolvesTo': ['Metapod'], 'abilities': [{'name': 'Adaptive Evolution', 'text': 'This Pokémon can evolve during your first turn or the turn you play it.', 'type': 'Ability'}], 'attacks': [{'name': 'Bug Bite', 'cost': ['Grass'], 'convertedEnergyCost': 1, 'damage': '10', 'text': ''}], 'weaknesses': [{'type': 'Fire', 'value': '×2'}], 'retreatCost': ['Colorless'], 'convertedRetreatCost': 1, 'set': {'id': 'g1', 'name': 'Generations', 'series': 'XY', 'printedTotal': 83, 'total': 117, 'legalities': {'unlimited': 'Legal', 'expanded': 'Legal'}, 'ptcgoCode': 'GEN', 'releaseDate': '2016/02/22', 'updatedAt': '2020/08/14 09:35:00', 'images': {'symbol': 'https://images.pokemontcg.io/g1/symbol.png', 'logo': 'https://images.pokemontcg.io/g1/logo.png'}}, 'number': '3', 'artist': 'Sumiyoshi Kizuki', 'rarity': 'Common', 'flavorText': 'For protection, it releases a horrible stench from the antennae on its head to drive away enemies.', 'nationalPokedexNumbers': [10], 'legalities': {'unlimited': 'Legal', 'expanded': 'Legal'}, 'images': {'small': 'https://images.pokemontcg.io/g1/3.png', 'large': 'https://images.pokemontcg.io/g1/3_hires.png'}, 'tcgplayer': {'url': 'https://prices.pokemontcg.io/tcgplayer/g1-3', 'updatedAt': '2025/08/17', 'prices': {'normal': {'low': 0.05, 'mid': 0.25, 'high': 5.15, 'market': 0.2, 'directLow': None}, 'reverseHolofoil': {'low': 0.19, 'mid': 0.61, 'high': 12.58, 'market': 0.65, 'directLow': None}}}, 'cardmarket': {'url': 'https://prices.pokemontcg.io/cardmarket/g1-3', 'updatedAt': '2025/08/17', 'prices': {'averageSellPrice': 0.1, 'lowPrice': 0.02, 'trendPrice': 0.1, 'germanProLow': 0.0, 'suggestedPrice': 0.0, 'reverseHoloSell': 0.92, 'reverseHoloLow': 0.05, 'reverseHoloTrend': 1.13, 'lowPriceExPlus': 0.02, 'avg1': 0.04, 'avg7': 0.1, 'avg30': 0.1, 'reverseHoloAvg1': 1.2, 'reverseHoloAvg7': 0.95, 'reverseHoloAvg30': 0.81}}}, {'id': 'g1-4', 'name': 'Metapod', 'supertype': 'Pokémon', 'subtypes': ['Stage 1'], 'hp': '70', 'types': ['Grass'], 'evolvesFrom': 'Caterpie', 'evolvesTo': ['Butterfree'], 'abilities': [{'name': 'Adaptive Evolution', 'text': 'This Pokémon can evolve during your first turn or the turn you play it.', 'type': 'Ability'}], 'attacks': [{'name': 'Harden', 'cost': ['Colorless', 'Colorless'], 'convertedEnergyCost': 2, 'damage': '', 'text': \"During your opponent's next turn, if this Pokémon would be damaged by an attack, prevent that attack's damage done to this Pokémon if that damage is 60 or less.\"}], 'weaknesses': [{'type': 'Fire', 'value': '×2'}], 'retreatCost': ['Colorless', 'Colorless'], 'convertedRetreatCost': 2, 'set': {'id': 'g1', 'name': 'Generations', 'series': 'XY', 'printedTotal': 83, 'total': 117, 'legalities': {'unlimited': 'Legal', 'expanded': 'Legal'}, 'ptcgoCode': 'GEN', 'releaseDate': '2016/02/22', 'updatedAt': '2020/08/14 09:35:00', 'images': {'symbol': 'https://images.pokemontcg.io/g1/symbol.png', 'logo': 'https://images.pokemontcg.io/g1/logo.png'}}, 'number': '4', 'artist': 'kawayoo', 'rarity': 'Uncommon', 'flavorText': 'A steel-hard shell protects its tender body. It quietly endures hardships while awaiting evolution.', 'nationalPokedexNumbers': [11], 'legalities': {'unlimited': 'Legal', 'expanded': 'Legal'}, 'images': {'small': 'https://images.pokemontcg.io/g1/4.png', 'large': 'https://images.pokemontcg.io/g1/4_hires.png'}, 'tcgplayer': {'url': 'https://prices.pokemontcg.io/tcgplayer/g1-4', 'updatedAt': '2025/08/17', 'prices': {'normal': {'low': 0.13, 'mid': 0.26, 'high': 4.95, 'market': 0.26, 'directLow': 0.25}, 'reverseHolofoil': {'low': 0.25, 'mid': 0.99, 'high': 12.58, 'market': 1.09, 'directLow': 19.99}}}, 'cardmarket': {'url': 'https://prices.pokemontcg.io/cardmarket/g1-4', 'updatedAt': '2025/08/17', 'prices': {'averageSellPrice': 0.15, 'lowPrice': 0.02, 'trendPrice': 0.22, 'germanProLow': 0.0, 'suggestedPrice': 0.0, 'reverseHoloSell': 0.43, 'reverseHoloLow': 0.13, 'reverseHoloTrend': 0.55, 'lowPriceExPlus': 0.02, 'avg1': 0.1, 'avg7': 0.13, 'avg30': 0.18, 'reverseHoloAvg1': 0.1, 'reverseHoloAvg7': 0.49, 'reverseHoloAvg30': 0.6}}}, {'id': 'g1-5', 'name': 'Butterfree', 'supertype': 'Pokémon', 'subtypes': ['Stage 2'], 'hp': '130', 'types': ['Grass'], 'evolvesFrom': 'Metapod', 'attacks': [{'name': 'Quiver Dance', 'cost': ['Grass'], 'convertedEnergyCost': 1, 'damage': '', 'text': 'Search your deck for a basic Energy card and attach it to this Pokémon. Shuffle your deck afterward. If you attached Energy in this way, heal 40 damage from this Pokémon.'}, {'name': 'Gust', 'cost': ['Grass', 'Colorless', 'Colorless'], 'convertedEnergyCost': 3, 'damage': '70', 'text': ''}], 'weaknesses': [{'type': 'Lightning', 'value': '×2'}], 'resistances': [{'type': 'Fighting', 'value': '-20'}], 'retreatCost': ['Colorless'], 'convertedRetreatCost': 1, 'set': {'id': 'g1', 'name': 'Generations', 'series': 'XY', 'printedTotal': 83, 'total': 117, 'legalities': {'unlimited': 'Legal', 'expanded': 'Legal'}, 'ptcgoCode': 'GEN', 'releaseDate': '2016/02/22', 'updatedAt': '2020/08/14 09:35:00', 'images': {'symbol': 'https://images.pokemontcg.io/g1/symbol.png', 'logo': 'https://images.pokemontcg.io/g1/logo.png'}}, 'number': '5', 'artist': 'miki kudo', 'rarity': 'Rare Holo', 'flavorText': 'It loves the honey of flowers and can locate flower patches that have even tiny amounts of pollen.', 'nationalPokedexNumbers': [12], 'legalities': {'unlimited': 'Legal', 'expanded': 'Legal'}, 'images': {'small': 'https://images.pokemontcg.io/g1/5.png', 'large': 'https://images.pokemontcg.io/g1/5_hires.png'}, 'tcgplayer': {'url': 'https://prices.pokemontcg.io/tcgplayer/g1-5', 'updatedAt': '2025/08/17', 'prices': {'holofoil': {'low': 0.85, 'mid': 1.7, 'high': 12.58, 'market': 1.75, 'directLow': 1.7}, 'reverseHolofoil': {'low': 1.18, 'mid': 2.38, 'high': 3.47, 'market': 2.59, 'directLow': 3.47}}}, 'cardmarket': {'url': 'https://prices.pokemontcg.io/cardmarket/g1-5', 'updatedAt': '2025/08/17', 'prices': {'averageSellPrice': 1.91, 'lowPrice': 0.5, 'trendPrice': 2.44, 'germanProLow': 0.0, 'suggestedPrice': 0.0, 'reverseHoloSell': 5.0, 'reverseHoloLow': 1.49, 'reverseHoloTrend': 4.69, 'lowPriceExPlus': 0.5, 'avg1': 5.4, 'avg7': 2.15, 'avg30': 1.67, 'reverseHoloAvg1': 5.0, 'reverseHoloAvg7': 3.96, 'reverseHoloAvg30': 2.92}}}, {'id': 'g1-6', 'name': 'Paras', 'supertype': 'Pokémon', 'subtypes': ['Basic'], 'hp': '60', 'types': ['Grass'], 'evolvesTo': ['Parasect'], 'attacks': [{'name': 'Blot', 'cost': ['Colorless'], 'convertedEnergyCost': 1, 'damage': '10', 'text': 'Heal 10 damage from this Pokémon.'}], 'weaknesses': [{'type': 'Fire', 'value': '×2'}], 'retreatCost': ['Colorless'], 'convertedRetreatCost': 1, 'set': {'id': 'g1', 'name': 'Generations', 'series': 'XY', 'printedTotal': 83, 'total': 117, 'legalities': {'unlimited': 'Legal', 'expanded': 'Legal'}, 'ptcgoCode': 'GEN', 'releaseDate': '2016/02/22', 'updatedAt': '2020/08/14 09:35:00', 'images': {'symbol': 'https://images.pokemontcg.io/g1/symbol.png', 'logo': 'https://images.pokemontcg.io/g1/logo.png'}}, 'number': '6', 'artist': 'Aya Kusube', 'rarity': 'Common', 'flavorText': 'Burrows under the ground to gnaw on tree roots. The mushrooms on its back absorb most of the nutrition.', 'nationalPokedexNumbers': [46], 'legalities': {'unlimited': 'Legal', 'expanded': 'Legal'}, 'images': {'small': 'https://images.pokemontcg.io/g1/6.png', 'large': 'https://images.pokemontcg.io/g1/6_hires.png'}, 'tcgplayer': {'url': 'https://prices.pokemontcg.io/tcgplayer/g1-6', 'updatedAt': '2025/08/17', 'prices': {'normal': {'low': 0.05, 'mid': 0.23, 'high': 4.95, 'market': 0.21, 'directLow': 0.15}, 'reverseHolofoil': {'low': 0.19, 'mid': 0.78, 'high': 8.44, 'market': 0.92, 'directLow': 0.2}}}, 'cardmarket': {'url': 'https://prices.pokemontcg.io/cardmarket/g1-6', 'updatedAt': '2025/08/17', 'prices': {'averageSellPrice': 0.16, 'lowPrice': 0.02, 'trendPrice': 0.18, 'germanProLow': 0.0, 'suggestedPrice': 0.0, 'reverseHoloSell': 1.89, 'reverseHoloLow': 0.3, 'reverseHoloTrend': 1.3, 'lowPriceExPlus': 0.02, 'avg1': 0.4, 'avg7': 0.2, 'avg30': 0.16, 'reverseHoloAvg1': 0.3, 'reverseHoloAvg7': 1.54, 'reverseHoloAvg30': 0.97}}}, {'id': 'g1-7', 'name': 'Parasect', 'supertype': 'Pokémon', 'subtypes': ['Stage 1'], 'hp': '100', 'types': ['Grass'], 'evolvesFrom': 'Paras', 'attacks': [{'name': 'Colorful Spores', 'cost': ['Colorless'], 'convertedEnergyCost': 1, 'damage': '', 'text': 'Choose 3 of your Pokémon. For each of those Pokémon, search your deck for a different type of basic Energy card and attach it to that Pokémon. Shuffle your deck afterward.'}, {'name': 'X-Scissor', 'cost': ['Grass', 'Colorless'], 'convertedEnergyCost': 2, 'damage': '30+', 'text': 'Flip a coin. If heads, this attack does 30 more damage.'}], 'weaknesses': [{'type': 'Fire', 'value': '×2'}], 'retreatCost': ['Colorless', 'Colorless'], 'convertedRetreatCost': 2, 'set': {'id': 'g1', 'name': 'Generations', 'series': 'XY', 'printedTotal': 83, 'total': 117, 'legalities': {'unlimited': 'Legal', 'expanded': 'Legal'}, 'ptcgoCode': 'GEN', 'releaseDate': '2016/02/22', 'updatedAt': '2020/08/14 09:35:00', 'images': {'symbol': 'https://images.pokemontcg.io/g1/symbol.png', 'logo': 'https://images.pokemontcg.io/g1/logo.png'}}, 'number': '7', 'artist': 'Sumiyoshi Kizuki', 'rarity': 'Rare', 'flavorText': 'The larger the mushroom on its back grows, the stronger the mushroom spores it scatters.', 'nationalPokedexNumbers': [47], 'legalities': {'unlimited': 'Legal', 'expanded': 'Legal'}, 'images': {'small': 'https://images.pokemontcg.io/g1/7.png', 'large': 'https://images.pokemontcg.io/g1/7_hires.png'}, 'tcgplayer': {'url': 'https://prices.pokemontcg.io/tcgplayer/g1-7', 'updatedAt': '2025/08/17', 'prices': {'normal': {'low': 0.1, 'mid': 0.35, 'high': 4.95, 'market': 0.32, 'directLow': None}, 'reverseHolofoil': {'low': 0.75, 'mid': 1.82, 'high': 2.75, 'market': 1.77, 'directLow': 1.04}}}, 'cardmarket': {'url': 'https://prices.pokemontcg.io/cardmarket/g1-7', 'updatedAt': '2025/08/17', 'prices': {'averageSellPrice': 0.3, 'lowPrice': 0.02, 'trendPrice': 0.33, 'germanProLow': 0.0, 'suggestedPrice': 0.0, 'reverseHoloSell': 2.29, 'reverseHoloLow': 0.5, 'reverseHoloTrend': 1.91, 'lowPriceExPlus': 0.02, 'avg1': 0.1, 'avg7': 0.24, 'avg30': 0.29, 'reverseHoloAvg1': 0.8, 'reverseHoloAvg7': 2.02, 'reverseHoloAvg30': 1.53}}}, {'id': 'g1-8', 'name': 'Tangela', 'supertype': 'Pokémon', 'subtypes': ['Basic'], 'hp': '80', 'types': ['Grass'], 'evolvesTo': ['Tangrowth'], 'attacks': [{'name': 'Absorb', 'cost': ['Grass', 'Colorless'], 'convertedEnergyCost': 2, 'damage': '20', 'text': 'Heal 20 damage from this Pokémon.'}, {'name': 'Vine Whip', 'cost': ['Grass', 'Grass', 'Colorless'], 'convertedEnergyCost': 3, 'damage': '30', 'text': ''}], 'weaknesses': [{'type': 'Fire', 'value': '×2'}], 'retreatCost': ['Colorless', 'Colorless'], 'convertedRetreatCost': 2, 'set': {'id': 'g1', 'name': 'Generations', 'series': 'XY', 'printedTotal': 83, 'total': 117, 'legalities': {'unlimited': 'Legal', 'expanded': 'Legal'}, 'ptcgoCode': 'GEN', 'releaseDate': '2016/02/22', 'updatedAt': '2020/08/14 09:35:00', 'images': {'symbol': 'https://images.pokemontcg.io/g1/symbol.png', 'logo': 'https://images.pokemontcg.io/g1/logo.png'}}, 'number': '8', 'artist': 'match', 'rarity': 'Common', 'flavorText': 'It tangles any moving thing with its vines. Their subtle shaking is ticklish if you get ensnared.', 'nationalPokedexNumbers': [114], 'legalities': {'unlimited': 'Legal', 'expanded': 'Legal'}, 'images': {'small': 'https://images.pokemontcg.io/g1/8.png', 'large': 'https://images.pokemontcg.io/g1/8_hires.png'}, 'tcgplayer': {'url': 'https://prices.pokemontcg.io/tcgplayer/g1-8', 'updatedAt': '2025/08/17', 'prices': {'normal': {'low': 0.05, 'mid': 0.2, 'high': 4.95, 'market': 0.16, 'directLow': 0.09}, 'reverseHolofoil': {'low': 0.05, 'mid': 0.4, 'high': 12.58, 'market': 0.38, 'directLow': 0.26}}}, 'cardmarket': {'url': 'https://prices.pokemontcg.io/cardmarket/g1-8', 'updatedAt': '2025/08/17', 'prices': {'averageSellPrice': 0.11, 'lowPrice': 0.02, 'trendPrice': 0.12, 'germanProLow': 0.0, 'suggestedPrice': 0.0, 'reverseHoloSell': 1.5, 'reverseHoloLow': 0.05, 'reverseHoloTrend': 1.3, 'lowPriceExPlus': 0.02, 'avg1': 0.04, 'avg7': 0.14, 'avg30': 0.09, 'reverseHoloAvg1': 1.99, 'reverseHoloAvg7': 1.0, 'reverseHoloAvg30': 0.82}}}, {'id': 'g1-9', 'name': 'Pinsir', 'supertype': 'Pokémon', 'subtypes': ['Basic'], 'hp': '100', 'types': ['Grass'], 'attacks': [{'name': 'Overhead Throw', 'cost': ['Grass'], 'convertedEnergyCost': 1, 'damage': '30', 'text': \"This attack does 20 damage to 1 of your Benched Pokémon. (Don't apply Weakness and Resistance for Benched Pokémon.)\"}, {'name': 'Heavy Suplex', 'cost': ['Grass', 'Colorless', 'Colorless'], 'convertedEnergyCost': 3, 'damage': '40+', 'text': \"This attack does 20 more damage for each Colorless in your opponent's Active Pokémon's Retreat Cost.\"}], 'weaknesses': [{'type': 'Fire', 'value': '×2'}], 'retreatCost': ['Colorless', 'Colorless'], 'convertedRetreatCost': 2, 'set': {'id': 'g1', 'name': 'Generations', 'series': 'XY', 'printedTotal': 83, 'total': 117, 'legalities': {'unlimited': 'Legal', 'expanded': 'Legal'}, 'ptcgoCode': 'GEN', 'releaseDate': '2016/02/22', 'updatedAt': '2020/08/14 09:35:00', 'images': {'symbol': 'https://images.pokemontcg.io/g1/symbol.png', 'logo': 'https://images.pokemontcg.io/g1/logo.png'}}, 'number': '9', 'artist': 'Satoshi Shirai', 'rarity': 'Rare', 'flavorText': 'It swings its long antlers wildly to attack. During cold periods, it hides deep in forests.', 'nationalPokedexNumbers': [127], 'legalities': {'unlimited': 'Legal', 'expanded': 'Legal'}, 'images': {'small': 'https://images.pokemontcg.io/g1/9.png', 'large': 'https://images.pokemontcg.io/g1/9_hires.png'}, 'tcgplayer': {'url': 'https://prices.pokemontcg.io/tcgplayer/g1-9', 'updatedAt': '2025/08/17', 'prices': {'normal': {'low': 0.09, 'mid': 0.38, 'high': 4.95, 'market': 0.37, 'directLow': None}, 'reverseHolofoil': {'low': 0.3, 'mid': 1.49, 'high': 12.58, 'market': 2.02, 'directLow': None}}}, 'cardmarket': {'url': 'https://prices.pokemontcg.io/cardmarket/g1-9', 'updatedAt': '2025/08/17', 'prices': {'averageSellPrice': 0.4, 'lowPrice': 0.05, 'trendPrice': 0.43, 'germanProLow': 0.0, 'suggestedPrice': 0.0, 'reverseHoloSell': 2.23, 'reverseHoloLow': 0.5, 'reverseHoloTrend': 2.43, 'lowPriceExPlus': 0.05, 'avg1': 0.22, 'avg7': 0.28, 'avg30': 0.28, 'reverseHoloAvg1': 1.8, 'reverseHoloAvg7': 2.16, 'reverseHoloAvg30': 2.21}}}, {'id': 'g1-10', 'name': 'Leafeon-EX', 'supertype': 'Pokémon', 'subtypes': ['Basic', 'EX'], 'hp': '170', 'types': ['Grass'], 'rules': ['Pokémon-EX rule: When a Pokémon-EX has been Knocked Out, your opponent takes 2 Prize cards.'], 'attacks': [{'name': 'Leaf Blade', 'cost': ['Grass', 'Colorless'], 'convertedEnergyCost': 2, 'damage': '30+', 'text': 'Flip a coin. If heads, this attack does 30 more damage.'}, {'name': \"Nature's Breath\", 'cost': ['Grass', 'Grass', 'Colorless'], 'convertedEnergyCost': 3, 'damage': '90+', 'text': 'If there is any Stadium card in play, this attack does 30 more damage and heal 30 damage from this Pokémon.'}], 'weaknesses': [{'type': 'Fire', 'value': '×2'}], 'retreatCost': ['Colorless', 'Colorless'], 'convertedRetreatCost': 2, 'set': {'id': 'g1', 'name': 'Generations', 'series': 'XY', 'printedTotal': 83, 'total': 117, 'legalities': {'unlimited': 'Legal', 'expanded': 'Legal'}, 'ptcgoCode': 'GEN', 'releaseDate': '2016/02/22', 'updatedAt': '2020/08/14 09:35:00', 'images': {'symbol': 'https://images.pokemontcg.io/g1/symbol.png', 'logo': 'https://images.pokemontcg.io/g1/logo.png'}}, 'number': '10', 'artist': 'Naoki Saito', 'rarity': 'Rare Holo EX', 'nationalPokedexNumbers': [470], 'legalities': {'unlimited': 'Legal', 'expanded': 'Legal'}, 'images': {'small': 'https://images.pokemontcg.io/g1/10.png', 'large': 'https://images.pokemontcg.io/g1/10_hires.png'}, 'tcgplayer': {'url': 'https://prices.pokemontcg.io/tcgplayer/g1-10', 'updatedAt': '2025/08/17', 'prices': {'holofoil': {'low': 15.64, 'mid': 27.32, 'high': 89.0, 'market': 25.3, 'directLow': 25.49}}}, 'cardmarket': {'url': 'https://prices.pokemontcg.io/cardmarket/g1-10', 'updatedAt': '2025/08/17', 'prices': {'averageSellPrice': 17.06, 'lowPrice': 8.0, 'trendPrice': 17.07, 'germanProLow': 0.0, 'suggestedPrice': 0.0, 'reverseHoloSell': 0.0, 'reverseHoloLow': 0.0, 'reverseHoloTrend': 12.93, 'lowPriceExPlus': 12.5, 'avg1': 8.95, 'avg7': 16.16, 'avg30': 17.5, 'reverseHoloAvg1': 6.0, 'reverseHoloAvg7': 10.43, 'reverseHoloAvg30': 11.95}}}], 'page': 1, 'pageSize': 10, 'count': 10, 'totalCount': 117}\n"
     ]
    }
   ],
   "source": [
    "import pandas as pd\n",
    "\n",
    "from pokemon_tcg_service import PokemonTCGServer\n",
    "\n",
    "server = PokemonTCGServer()\n",
    "cards = server.get_cards(page_size=10, order_by=\"set.releaseDate\", query=\"set.name:generations\")\n",
    "\n",
    "print(cards)"
   ]
  },
  {
   "cell_type": "code",
   "execution_count": null,
   "id": "e7eb2cff",
   "metadata": {},
   "outputs": [
    {
     "name": "stdout",
     "output_type": "stream",
     "text": [
      "                                                data  page  pageSize  count  \\\n",
      "0  {'id': 'g1-1', 'name': 'Venusaur-EX', 'superty...     1        10     10   \n",
      "1  {'id': 'g1-2', 'name': 'M Venusaur-EX', 'super...     1        10     10   \n",
      "2  {'id': 'g1-3', 'name': 'Caterpie', 'supertype'...     1        10     10   \n",
      "3  {'id': 'g1-4', 'name': 'Metapod', 'supertype':...     1        10     10   \n",
      "4  {'id': 'g1-5', 'name': 'Butterfree', 'supertyp...     1        10     10   \n",
      "5  {'id': 'g1-6', 'name': 'Paras', 'supertype': '...     1        10     10   \n",
      "6  {'id': 'g1-7', 'name': 'Parasect', 'supertype'...     1        10     10   \n",
      "7  {'id': 'g1-8', 'name': 'Tangela', 'supertype':...     1        10     10   \n",
      "8  {'id': 'g1-9', 'name': 'Pinsir', 'supertype': ...     1        10     10   \n",
      "9  {'id': 'g1-10', 'name': 'Leafeon-EX', 'superty...     1        10     10   \n",
      "\n",
      "   totalCount  \n",
      "0         117  \n",
      "1         117  \n",
      "2         117  \n",
      "3         117  \n",
      "4         117  \n",
      "5         117  \n",
      "6         117  \n",
      "7         117  \n",
      "8         117  \n",
      "9         117  \n",
      "(10, 5)\n"
     ]
    }
   ],
   "source": [
    "df = pd.DataFrame(cards)\n",
    "print(df)\n",
    "print(df.shape)"
   ]
  },
  {
   "cell_type": "code",
   "execution_count": null,
   "id": "c4b43ab2",
   "metadata": {},
   "outputs": [],
   "source": [
    "import json\n",
    "import psycopg2\n",
    "from psycopg2.extras import execute_values\n",
    "import os\n",
    "from typing import Dict, List, Optional, Any\n",
    "from dotenv import load_dotenv\n",
    "\n",
    "from pokemon_tcg_service import PokemonTCGServer\n",
    "\n",
    "# Set up database connection\n",
    "load_dotenv()\n",
    "\n",
    "\n",
    "DB_CONFIG = {\n",
    "    \"host\": \"postgres\",\n",
    "    \"port\": 5432,\n",
    "    \"database\": os.getenv(\"POSTGRES_DB\"),\n",
    "    \"user\": os.getenv(\"POSTGRES_USER\"),\n",
    "    \"password\": os.getenv(\"POSTGRES_PASSWORD\")\n",
    "}\n",
    "\n",
    "# SQL statements for raw cards table\n",
    "create_sql = \"\"\"\n",
    "    CREATE TABLE IF NOT EXISTS raw_cards (\n",
    "    data JSONB,\n",
    "    page INTEGER,\n",
    "    pageSize INTEGER,\n",
    "    count INTEGER,\n",
    "    totalCount INTEGER\n",
    ");\n",
    "\"\"\"\n",
    "\n",
    "insert_sql = \"\"\"\n",
    "    INSERT INTO raw_cards (data, page, pageSize, count, totalCount)\n",
    "    VALUES %s;\n",
    "\"\"\"\n",
    "\n",
    "\n",
    "def create_raw_table():\n",
    "    \"\"\"Creates the raw_cards table for unprocessed card data\"\"\"\n",
    "    try:\n",
    "        # Establish connection to the database\n",
    "        with psycopg2.connect(**DB_CONFIG) as conn:\n",
    "            # Create a cursor object to execute SQL commands\n",
    "            with conn.cursor() as cursor:\n",
    "                cursor.execute(create_sql)\n",
    "    except Exception as e:\n",
    "        print(f\"Error creating raw_cards table: {e}\")\n",
    "\n",
    "def fetch_cards_data():\n",
    "    \"\"\"Fetches cards data from the API\"\"\"\n",
    "    server = PokemonTCGServer()\n",
    "    response = server.get_cards(page_size=10, order_by=\"set.releaseDate\", query=\"set.name:generations\")\n",
    "    data = response.json()\n",
    "    \n",
    "    cards = data.get(\"data\", [])\n",
    "    page_info = {\n",
    "        \"page\": data.get(\"page\"),\n",
    "        \"pageSize\": data.get(\"pageSize\"),\n",
    "        \"count\": data.get(\"count\"),\n",
    "        \"totalCount\": data.get(\"totalCount\")\n",
    "    }\n",
    "    return cards, page_info\n",
    "    return cards\n",
    "\n",
    "def load_to_db(cards: List[Dict[str, Any]], page_info: Dict[str, Any]):\n",
    "    \"\"\"Inserts cards into the raw_cards table\"\"\"\n",
    "    rows = [\n",
    "            (json.dumps(card), \n",
    "             page_info[\"page\"], \n",
    "             page_info[\"pageSize\"], \n",
    "             page_info[\"count\"], \n",
    "             page_info[\"totalCount\"])\n",
    "            for card in cards\n",
    "        ]\n",
    "    try:\n",
    "\n",
    "        with psycopg2.connect(**DB_CONFIG) as conn:\n",
    "            with conn.cursor() as cursor:\n",
    "                execute_values(cursor, insert_sql, rows)\n",
    "    except Exception as e:\n",
    "        print(f\"Error inserting cards into raw_cards table: {e}\")\n",
    "\n",
    "\n",
    "create_raw_table()\n",
    "cards = fetch_cards_data()\n",
    "load_to_db(cards)"
   ]
  }
 ],
 "metadata": {
  "kernelspec": {
   "display_name": "tcg-poke-decks-kK7eue6u-py3.12",
   "language": "python",
   "name": "python3"
  },
  "language_info": {
   "codemirror_mode": {
    "name": "ipython",
    "version": 3
   },
   "file_extension": ".py",
   "mimetype": "text/x-python",
   "name": "python",
   "nbconvert_exporter": "python",
   "pygments_lexer": "ipython3",
   "version": "3.12.0"
  }
 },
 "nbformat": 4,
 "nbformat_minor": 5
}
